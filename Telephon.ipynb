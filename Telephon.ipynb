{
 "cells": [
  {
   "cell_type": "code",
   "execution_count": 5,
   "metadata": {},
   "outputs": [
    {
     "name": "stdout",
     "output_type": "stream",
     "text": [
      "Collecting telethon\n",
      "  Using cached Telethon-1.16.4-py3-none-any.whl (483 kB)\n",
      "Requirement already satisfied: rsa in /home/leadness/anaconda3/lib/python3.7/site-packages (from telethon) (4.0)\n",
      "Collecting pyaes\n",
      "  Using cached pyaes-1.6.1.tar.gz (28 kB)\n",
      "Requirement already satisfied: pyasn1>=0.1.3 in /home/leadness/anaconda3/lib/python3.7/site-packages (from rsa->telethon) (0.4.8)\n",
      "Building wheels for collected packages: pyaes\n",
      "  Building wheel for pyaes (setup.py) ... \u001b[?25ldone\n",
      "\u001b[?25h  Created wheel for pyaes: filename=pyaes-1.6.1-py3-none-any.whl size=26345 sha256=8ea5836028fe558c3d5552f509c3839eb9e86ff65064958851811b9a9122b0ab\n",
      "  Stored in directory: /home/leadness/.cache/pip/wheels/42/a3/7d/73d60820adb58d818179cdec3fc1be66f6f7453513a3ff0b05\n",
      "Successfully built pyaes\n",
      "Installing collected packages: pyaes, telethon\n",
      "Successfully installed pyaes-1.6.1 telethon-1.16.4\n"
     ]
    }
   ],
   "source": [
    "import sys\n",
    "\n",
    "!{sys.executable} -m pip install telethon"
   ]
  },
  {
   "cell_type": "code",
   "execution_count": 25,
   "metadata": {},
   "outputs": [
    {
     "data": {
      "text/plain": [
       "<coroutine object AuthMethods._start at 0x7f55ab8ecb00>"
      ]
     },
     "execution_count": 25,
     "metadata": {},
     "output_type": "execute_result"
    }
   ],
   "source": [
    "from telethon.sync import TelegramClient\n",
    "from telethon import connection\n",
    "\n",
    "# для корректного переноса времени сообщений в json\n",
    "from datetime import date, datetime\n",
    "\n",
    "# классы для работы с каналами\n",
    "from telethon.tl.functions.channels import GetParticipantsRequest\n",
    "from telethon.tl.types import ChannelParticipantsSearch\n",
    "\n",
    "# класс для работы с сообщениями\n",
    "from telethon.tl.functions.messages import GetHistoryRequest\n",
    "\n",
    "username = 'vnkrtv'\n",
    "api_id = 879870\n",
    "api_hash = '1f4ede3cdb97dcbd074b17b2e0cf9797'\n",
    "\n",
    "\n",
    "client = TelegramClient(None, api_id, api_hash)\n",
    "client.start()"
   ]
  },
  {
   "cell_type": "code",
   "execution_count": 20,
   "metadata": {},
   "outputs": [],
   "source": [
    "async def dump_all_participants(channel):\n",
    "    \"\"\"Записывает json-файл с информацией о всех участниках канала/чата\"\"\"\n",
    "    offset_user = 0    # номер участника, с которого начинается считывание\n",
    "    limit_user = 100   # максимальное число записей, передаваемых за один раз\n",
    "\n",
    "    all_participants = []   # список всех участников канала\n",
    "    filter_user = ChannelParticipantsSearch('')\n",
    "\n",
    "    while True:\n",
    "        participants = await client(GetParticipantsRequest(channel,\n",
    "            filter_user, offset_user, limit_user, hash=0))\n",
    "        if not participants.users:\n",
    "            break\n",
    "        all_participants.extend(participants.users)\n",
    "        offset_user += len(participants.users)\n",
    "\n",
    "    all_users_details = []   # список словарей с интересующими параметрами участников канала\n",
    "\n",
    "    for participant in all_participants:\n",
    "        all_users_details.append({\"id\": participant.id,\n",
    "            \"first_name\": participant.first_name,\n",
    "            \"last_name\": participant.last_name,\n",
    "            \"user\": participant.username,\n",
    "            \"phone\": participant.phone,\n",
    "            \"is_bot\": participant.bot})\n",
    "\n",
    "    with open('channel_users.json', 'w', encoding='utf8') as outfile:\n",
    "        json.dump(all_users_details, outfile, ensure_ascii=False)"
   ]
  },
  {
   "cell_type": "code",
   "execution_count": 21,
   "metadata": {},
   "outputs": [],
   "source": [
    "async def dump_all_messages(channel):\n",
    "    \"\"\"Записывает json-файл с информацией о всех сообщениях канала/чата\"\"\"\n",
    "    offset_msg = 0    # номер записи, с которой начинается считывание\n",
    "    limit_msg = 100   # максимальное число записей, передаваемых за один раз\n",
    "\n",
    "    all_messages = []   # список всех сообщений\n",
    "    total_messages = 0\n",
    "    total_count_limit = 0  # поменяйте это значение, если вам нужны не все сообщения\n",
    "\n",
    "    class DateTimeEncoder(json.JSONEncoder):\n",
    "        '''Класс для сериализации записи дат в JSON'''\n",
    "        def default(self, o):\n",
    "            if isinstance(o, datetime):\n",
    "                return o.isoformat()\n",
    "            if isinstance(o, bytes):\n",
    "                return list(o)\n",
    "            return json.JSONEncoder.default(self, o)\n",
    "\n",
    "    while True:\n",
    "        history = await client(GetHistoryRequest(\n",
    "            peer=channel,\n",
    "            offset_id=offset_msg,\n",
    "            offset_date=None, add_offset=0,\n",
    "            limit=limit_msg, max_id=0, min_id=0,\n",
    "            hash=0))\n",
    "        if not history.messages:\n",
    "            break\n",
    "        messages = history.messages\n",
    "        for message in messages:\n",
    "            all_messages.append(message.to_dict())\n",
    "        offset_msg = messages[len(messages) - 1].id\n",
    "        total_messages = len(all_messages)\n",
    "        if total_count_limit != 0 and total_messages >= total_count_limit:\n",
    "            break\n",
    "\n",
    "    with open('channel_messages.json', 'w', encoding='utf8') as outfile:\n",
    "         json.dump(all_messages, outfile, ensure_ascii=False, cls=DateTimeEncoder)"
   ]
  },
  {
   "cell_type": "code",
   "execution_count": 27,
   "metadata": {},
   "outputs": [
    {
     "name": "stdout",
     "output_type": "stream",
     "text": [
      "Please enter your phone (or bot token): 89296257610\n",
      "Please enter the code you received: 10829\n",
      "Signed in successfully as Ivan\n"
     ]
    },
    {
     "ename": "RuntimeError",
     "evalue": "This event loop is already running",
     "output_type": "error",
     "traceback": [
      "\u001b[0;31m---------------------------------------------------------------------------\u001b[0m",
      "\u001b[0;31mRuntimeError\u001b[0m                              Traceback (most recent call last)",
      "\u001b[0;32m<ipython-input-27-d091e0bb6281>\u001b[0m in \u001b[0;36masync-def-wrapper\u001b[0;34m()\u001b[0m\n",
      "\u001b[0;32m~/anaconda3/lib/python3.7/asyncio/base_events.py\u001b[0m in \u001b[0;36mrun_until_complete\u001b[0;34m(self, future)\u001b[0m\n\u001b[1;32m    561\u001b[0m         \"\"\"\n\u001b[1;32m    562\u001b[0m         \u001b[0mself\u001b[0m\u001b[0;34m.\u001b[0m\u001b[0m_check_closed\u001b[0m\u001b[0;34m(\u001b[0m\u001b[0;34m)\u001b[0m\u001b[0;34m\u001b[0m\u001b[0;34m\u001b[0m\u001b[0m\n\u001b[0;32m--> 563\u001b[0;31m         \u001b[0mself\u001b[0m\u001b[0;34m.\u001b[0m\u001b[0m_check_runnung\u001b[0m\u001b[0;34m(\u001b[0m\u001b[0;34m)\u001b[0m\u001b[0;34m\u001b[0m\u001b[0;34m\u001b[0m\u001b[0m\n\u001b[0m\u001b[1;32m    564\u001b[0m \u001b[0;34m\u001b[0m\u001b[0m\n\u001b[1;32m    565\u001b[0m         \u001b[0mnew_task\u001b[0m \u001b[0;34m=\u001b[0m \u001b[0;32mnot\u001b[0m \u001b[0mfutures\u001b[0m\u001b[0;34m.\u001b[0m\u001b[0misfuture\u001b[0m\u001b[0;34m(\u001b[0m\u001b[0mfuture\u001b[0m\u001b[0;34m)\u001b[0m\u001b[0;34m\u001b[0m\u001b[0;34m\u001b[0m\u001b[0m\n",
      "\u001b[0;32m~/anaconda3/lib/python3.7/asyncio/base_events.py\u001b[0m in \u001b[0;36m_check_runnung\u001b[0;34m(self)\u001b[0m\n\u001b[1;32m    521\u001b[0m     \u001b[0;32mdef\u001b[0m \u001b[0m_check_runnung\u001b[0m\u001b[0;34m(\u001b[0m\u001b[0mself\u001b[0m\u001b[0;34m)\u001b[0m\u001b[0;34m:\u001b[0m\u001b[0;34m\u001b[0m\u001b[0;34m\u001b[0m\u001b[0m\n\u001b[1;32m    522\u001b[0m         \u001b[0;32mif\u001b[0m \u001b[0mself\u001b[0m\u001b[0;34m.\u001b[0m\u001b[0mis_running\u001b[0m\u001b[0;34m(\u001b[0m\u001b[0;34m)\u001b[0m\u001b[0;34m:\u001b[0m\u001b[0;34m\u001b[0m\u001b[0;34m\u001b[0m\u001b[0m\n\u001b[0;32m--> 523\u001b[0;31m             \u001b[0;32mraise\u001b[0m \u001b[0mRuntimeError\u001b[0m\u001b[0;34m(\u001b[0m\u001b[0;34m'This event loop is already running'\u001b[0m\u001b[0;34m)\u001b[0m\u001b[0;34m\u001b[0m\u001b[0;34m\u001b[0m\u001b[0m\n\u001b[0m\u001b[1;32m    524\u001b[0m         \u001b[0;32mif\u001b[0m \u001b[0mevents\u001b[0m\u001b[0;34m.\u001b[0m\u001b[0m_get_running_loop\u001b[0m\u001b[0;34m(\u001b[0m\u001b[0;34m)\u001b[0m \u001b[0;32mis\u001b[0m \u001b[0;32mnot\u001b[0m \u001b[0;32mNone\u001b[0m\u001b[0;34m:\u001b[0m\u001b[0;34m\u001b[0m\u001b[0;34m\u001b[0m\u001b[0m\n\u001b[1;32m    525\u001b[0m             raise RuntimeError(\n",
      "\u001b[0;31mRuntimeError\u001b[0m: This event loop is already running"
     ]
    }
   ],
   "source": [
    "async def main():\n",
    "    url = input(\"Введите ссылку на канал или чат: \")\n",
    "    channel = await client.get_entity(url)\n",
    "    await dump_all_participants(channel)\n",
    "    await dump_all_messages(channel)\n",
    "\n",
    "\n",
    "async with client:\n",
    "    client.loop.run_until_complete(main())"
   ]
  },
  {
   "cell_type": "code",
   "execution_count": 31,
   "metadata": {},
   "outputs": [
    {
     "name": "stderr",
     "output_type": "stream",
     "text": [
      "/home/leadness/anaconda3/lib/python3.7/site-packages/ipykernel_launcher.py:1: RuntimeWarning: coroutine 'UserMethods.get_me' was never awaited\n",
      "  \"\"\"Entry point for launching an IPython kernel.\n",
      "RuntimeWarning: Enable tracemalloc to get the object allocation traceback\n"
     ]
    },
    {
     "ename": "AttributeError",
     "evalue": "'coroutine' object has no attribute 'stringify'",
     "output_type": "error",
     "traceback": [
      "\u001b[0;31m---------------------------------------------------------------------------\u001b[0m",
      "\u001b[0;31mAttributeError\u001b[0m                            Traceback (most recent call last)",
      "\u001b[0;32m<ipython-input-31-e9bdb98aa954>\u001b[0m in \u001b[0;36m<module>\u001b[0;34m\u001b[0m\n\u001b[0;32m----> 1\u001b[0;31m \u001b[0mprint\u001b[0m\u001b[0;34m(\u001b[0m\u001b[0mclient\u001b[0m\u001b[0;34m.\u001b[0m\u001b[0mget_me\u001b[0m\u001b[0;34m(\u001b[0m\u001b[0;34m)\u001b[0m\u001b[0;34m.\u001b[0m\u001b[0mstringify\u001b[0m\u001b[0;34m(\u001b[0m\u001b[0;34m)\u001b[0m\u001b[0;34m)\u001b[0m\u001b[0;34m\u001b[0m\u001b[0;34m\u001b[0m\u001b[0m\n\u001b[0m",
      "\u001b[0;31mAttributeError\u001b[0m: 'coroutine' object has no attribute 'stringify'"
     ]
    }
   ],
   "source": [
    "print(client.get_me().stringify())"
   ]
  },
  {
   "cell_type": "code",
   "execution_count": 6,
   "metadata": {},
   "outputs": [
    {
     "name": "stdout",
     "output_type": "stream",
     "text": [
      "channels.json  main.py\tREADME.md  requirements.txt  src  Telephon.ipynb  venv\r\n"
     ]
    }
   ],
   "source": [
    "!ls"
   ]
  },
  {
   "cell_type": "code",
   "execution_count": null,
   "metadata": {},
   "outputs": [],
   "source": []
  }
 ],
 "metadata": {
  "kernelspec": {
   "display_name": "Python 3",
   "language": "python",
   "name": "python3"
  }
 },
 "nbformat": 4,
 "nbformat_minor": 4
}
